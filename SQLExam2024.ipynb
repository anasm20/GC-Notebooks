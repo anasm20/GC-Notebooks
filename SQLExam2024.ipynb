{
  "nbformat": 4,
  "nbformat_minor": 0,
  "metadata": {
    "colab": {
      "provenance": []
    },
    "kernelspec": {
      "name": "python3",
      "display_name": "Python 3"
    }
  },
  "cells": [
    {
      "cell_type": "markdown",
      "metadata": {
        "id": "ZzEipCneZrGj"
      },
      "source": [
        "# Abschlussprüfung\n",
        "Laden sie die Datenbank mit den folgenden zwei Codeblöcken in die Laufzeit und lösen sie die Aufgaben darunter."
      ]
    },
    {
      "cell_type": "code",
      "metadata": {
        "id": "kYf0heJYdDTs"
      },
      "source": [
        "%%capture\n",
        "!pip install ipython-sql\n",
        "!pip install gdown\n",
        "!gdown https://drive.google.com/uc?id=1eQBiYG0Jp6s7uGo2lLrF5XTQ_Pb2gRIX\n",
        "%load_ext sql\n",
        "%config SqlMagic.style = '_DEPRECATED_DEFAULT'"
      ],
      "execution_count": null,
      "outputs": []
    },
    {
      "cell_type": "code",
      "metadata": {
        "id": "UQWXDVA1d-7K"
      },
      "source": [
        "%%capture !wget\n",
        "%sql sqlite:///chinook.db"
      ],
      "execution_count": null,
      "outputs": []
    },
    {
      "cell_type": "markdown",
      "source": [
        "Verwenden Sie das Diagramm der Datenbank (siehe Moodle) als Anhaltspunkt zur Struktur der Datenbank und Aufbau der jeweiligen Tabelle und ihre Verweise."
      ],
      "metadata": {
        "id": "Ioa6iIABRuXH"
      }
    },
    {
      "cell_type": "code",
      "source": [
        "from IPython.display import Image, display\n",
        "\n",
        "url = \"https://github.com/user-attachments/assets/d8d81d4f-0ee1-4c42-b3ed-b819e90e9d2a\"\n",
        "\n",
        "display(Image(url=url))\n"
      ],
      "metadata": {
        "colab": {
          "base_uri": "https://localhost:8080/",
          "height": 423
        },
        "id": "gBobPdRgfWmG",
        "outputId": "9e45c0d2-3553-443d-e8be-6517506645dd"
      },
      "execution_count": 7,
      "outputs": [
        {
          "output_type": "display_data",
          "data": {
            "text/html": [
              "<img src=\"https://github.com/user-attachments/assets/d8d81d4f-0ee1-4c42-b3ed-b819e90e9d2a\"/>"
            ],
            "text/plain": [
              "<IPython.core.display.Image object>"
            ]
          },
          "metadata": {}
        }
      ]
    },
    {
      "cell_type": "markdown",
      "source": [
        "---"
      ],
      "metadata": {
        "id": "Lc70GxRzka96"
      }
    },
    {
      "cell_type": "markdown",
      "source": [
        "**Aufgabe 1**\n",
        "\n",
        "1.   Erstellen Sie eine Tabelle mit dem Namen \"TestUser\" und den Feldern id, name, birthdate und score. Wählen Sie die Datentypen entsprechend. Achten Sie dabei darauf dass id automatisch vergeben wird und in score eine Gleitkommazahl eingetragen werden kann.\n",
        "2.   Fügen sie einen Daten Satz ein mit dem Namen 'Kurt Test', Geburtsdatum '1980-01-01' und einem Score von 37.5\n",
        "3.   Fügen sie einen Daten Satz ein mit dem Namen 'Julia Check', Geburtsdatum '1985-05-05' und einem Score von 81.7\n",
        "4.   Aktualisieren Sie den Datensatz aus Punkt 2 und ändern damit den Namen auf 'Astrid Test'\n",
        "5.   Löschen Sie den Datensatz aus Punkt 3\n",
        "6.   Löschen Sie die ganze Tabelle\n",
        "\n",
        "Führen Sie zwischen den Punkten das jeweils vorbereitete SELECT Statement aus um die Zwischenergebnisse zu prüfen.\n",
        "\n",
        "\n"
      ],
      "metadata": {
        "id": "JVyDu4h5kd1Z"
      }
    },
    {
      "cell_type": "code",
      "source": [
        "%%sql\n",
        "-- 1\n",
        "create table TestUser (\n",
        "    id        integrt primary key autoincrement,\n",
        "    name      text not null,\n",
        "    birthdate date not null,\n",
        "    score     real not null\n",
        ");"
      ],
      "metadata": {
        "id": "QSOHlthBkhfj",
        "colab": {
          "base_uri": "https://localhost:8080/"
        },
        "outputId": "884a596a-13c4-48d5-b501-fa939c90f243"
      },
      "execution_count": null,
      "outputs": [
        {
          "output_type": "stream",
          "name": "stdout",
          "text": [
            " * sqlite:///chinook.db\n",
            "Done.\n"
          ]
        },
        {
          "output_type": "execute_result",
          "data": {
            "text/plain": [
              "[]"
            ]
          },
          "metadata": {},
          "execution_count": 17
        }
      ]
    },
    {
      "cell_type": "code",
      "source": [
        "%%sql\n",
        "-- 2\n",
        "insert into TestUser (name, birthdate, score) values ('kurt test', '1980-01-01', 37.5);"
      ],
      "metadata": {
        "id": "Xppxy-vjmvLI",
        "colab": {
          "base_uri": "https://localhost:8080/"
        },
        "outputId": "c0c85b95-a4bd-4efd-91a4-84c72778a277"
      },
      "execution_count": null,
      "outputs": [
        {
          "output_type": "stream",
          "name": "stdout",
          "text": [
            " * sqlite:///chinook.db\n",
            "1 rows affected.\n"
          ]
        },
        {
          "output_type": "execute_result",
          "data": {
            "text/plain": [
              "[]"
            ]
          },
          "metadata": {},
          "execution_count": 18
        }
      ]
    },
    {
      "cell_type": "code",
      "source": [
        "%%sql\n",
        "-- 3\n",
        "insert into TestUser (name,\n",
        "                      birthdate,\n",
        "                      score)\n",
        "values ('julia check',\n",
        "        '1985-05-05',\n",
        "        81.7);\n"
      ],
      "metadata": {
        "id": "1qxfs5FOqAm5",
        "colab": {
          "base_uri": "https://localhost:8080/"
        },
        "outputId": "62e7311b-fff9-4a7d-b45d-d6997852511c"
      },
      "execution_count": null,
      "outputs": [
        {
          "output_type": "stream",
          "name": "stdout",
          "text": [
            " * sqlite:///chinook.db\n",
            "1 rows affected.\n"
          ]
        },
        {
          "output_type": "execute_result",
          "data": {
            "text/plain": [
              "[]"
            ]
          },
          "metadata": {},
          "execution_count": 19
        }
      ]
    },
    {
      "cell_type": "code",
      "source": [
        "%%sql\n",
        "SELECT * FROM TestUser"
      ],
      "metadata": {
        "id": "UiHFzHito8fu",
        "colab": {
          "base_uri": "https://localhost:8080/",
          "height": 118
        },
        "outputId": "1a724f90-3d40-444f-de14-0486a2c39c00"
      },
      "execution_count": null,
      "outputs": [
        {
          "output_type": "stream",
          "name": "stdout",
          "text": [
            " * sqlite:///chinook.db\n",
            "Done.\n"
          ]
        },
        {
          "output_type": "execute_result",
          "data": {
            "text/plain": [
              "[(1, 'kurt test', '1980-01-01', 37.5), (2, 'julia check', '1985-05-05', 81.7)]"
            ],
            "text/html": [
              "<table>\n",
              "    <thead>\n",
              "        <tr>\n",
              "            <th>id</th>\n",
              "            <th>name</th>\n",
              "            <th>birthdate</th>\n",
              "            <th>score</th>\n",
              "        </tr>\n",
              "    </thead>\n",
              "    <tbody>\n",
              "        <tr>\n",
              "            <td>1</td>\n",
              "            <td>kurt test</td>\n",
              "            <td>1980-01-01</td>\n",
              "            <td>37.5</td>\n",
              "        </tr>\n",
              "        <tr>\n",
              "            <td>2</td>\n",
              "            <td>julia check</td>\n",
              "            <td>1985-05-05</td>\n",
              "            <td>81.7</td>\n",
              "        </tr>\n",
              "    </tbody>\n",
              "</table>"
            ]
          },
          "metadata": {},
          "execution_count": 20
        }
      ]
    },
    {
      "cell_type": "code",
      "source": [
        "%%sql\n",
        "-- 4\n",
        "update TestUser set name = 'astrid test' where name = 'kurt test';\n"
      ],
      "metadata": {
        "id": "Grrdte8IpW1M",
        "colab": {
          "base_uri": "https://localhost:8080/"
        },
        "outputId": "f3f80f25-0e25-4a76-956f-cc6fe5436cab"
      },
      "execution_count": null,
      "outputs": [
        {
          "output_type": "stream",
          "name": "stdout",
          "text": [
            " * sqlite:///chinook.db\n",
            "1 rows affected.\n"
          ]
        },
        {
          "output_type": "execute_result",
          "data": {
            "text/plain": [
              "[]"
            ]
          },
          "metadata": {},
          "execution_count": 21
        }
      ]
    },
    {
      "cell_type": "code",
      "source": [
        "%%sql\n",
        "SELECT * FROM TestUser"
      ],
      "metadata": {
        "id": "LpbR9SPVpmRC",
        "colab": {
          "base_uri": "https://localhost:8080/",
          "height": 118
        },
        "outputId": "8ad81592-4cac-4734-bb91-f83bad95bf74"
      },
      "execution_count": null,
      "outputs": [
        {
          "output_type": "stream",
          "name": "stdout",
          "text": [
            " * sqlite:///chinook.db\n",
            "Done.\n"
          ]
        },
        {
          "output_type": "execute_result",
          "data": {
            "text/plain": [
              "[(1, 'astrid test', '1980-01-01', 37.5),\n",
              " (2, 'julia check', '1985-05-05', 81.7)]"
            ],
            "text/html": [
              "<table>\n",
              "    <thead>\n",
              "        <tr>\n",
              "            <th>id</th>\n",
              "            <th>name</th>\n",
              "            <th>birthdate</th>\n",
              "            <th>score</th>\n",
              "        </tr>\n",
              "    </thead>\n",
              "    <tbody>\n",
              "        <tr>\n",
              "            <td>1</td>\n",
              "            <td>astrid test</td>\n",
              "            <td>1980-01-01</td>\n",
              "            <td>37.5</td>\n",
              "        </tr>\n",
              "        <tr>\n",
              "            <td>2</td>\n",
              "            <td>julia check</td>\n",
              "            <td>1985-05-05</td>\n",
              "            <td>81.7</td>\n",
              "        </tr>\n",
              "    </tbody>\n",
              "</table>"
            ]
          },
          "metadata": {},
          "execution_count": 22
        }
      ]
    },
    {
      "cell_type": "code",
      "source": [
        "%%sql\n",
        "-- 5\n",
        "delete from TestUser where name = 'julia check';"
      ],
      "metadata": {
        "id": "VPfa7GG3qW6r",
        "colab": {
          "base_uri": "https://localhost:8080/"
        },
        "outputId": "5519c6f0-8ede-4dea-cdcb-b130916a65f0"
      },
      "execution_count": null,
      "outputs": [
        {
          "output_type": "stream",
          "name": "stdout",
          "text": [
            " * sqlite:///chinook.db\n",
            "1 rows affected.\n"
          ]
        },
        {
          "output_type": "execute_result",
          "data": {
            "text/plain": [
              "[]"
            ]
          },
          "metadata": {},
          "execution_count": 23
        }
      ]
    },
    {
      "cell_type": "code",
      "source": [
        "%%sql\n",
        "SELECT * FROM TestUser;"
      ],
      "metadata": {
        "id": "zhJCCV-qrIFs",
        "colab": {
          "base_uri": "https://localhost:8080/",
          "height": 96
        },
        "outputId": "aceb582f-b784-4151-b377-d95b70723acf"
      },
      "execution_count": null,
      "outputs": [
        {
          "output_type": "stream",
          "name": "stdout",
          "text": [
            " * sqlite:///chinook.db\n",
            "Done.\n"
          ]
        },
        {
          "output_type": "execute_result",
          "data": {
            "text/plain": [
              "[(1, 'astrid test', '1980-01-01', 37.5)]"
            ],
            "text/html": [
              "<table>\n",
              "    <thead>\n",
              "        <tr>\n",
              "            <th>id</th>\n",
              "            <th>name</th>\n",
              "            <th>birthdate</th>\n",
              "            <th>score</th>\n",
              "        </tr>\n",
              "    </thead>\n",
              "    <tbody>\n",
              "        <tr>\n",
              "            <td>1</td>\n",
              "            <td>astrid test</td>\n",
              "            <td>1980-01-01</td>\n",
              "            <td>37.5</td>\n",
              "        </tr>\n",
              "    </tbody>\n",
              "</table>"
            ]
          },
          "metadata": {},
          "execution_count": 24
        }
      ]
    },
    {
      "cell_type": "code",
      "source": [
        "%%sql\n",
        "-- 6\n",
        "drop table TestUser;"
      ],
      "metadata": {
        "id": "c-R9hw_orJC_",
        "colab": {
          "base_uri": "https://localhost:8080/"
        },
        "outputId": "44bcdd24-7638-4fad-8cce-b7ed73258148"
      },
      "execution_count": null,
      "outputs": [
        {
          "output_type": "stream",
          "name": "stdout",
          "text": [
            " * sqlite:///chinook.db\n",
            "Done.\n"
          ]
        },
        {
          "output_type": "execute_result",
          "data": {
            "text/plain": [
              "[]"
            ]
          },
          "metadata": {},
          "execution_count": 11
        }
      ]
    },
    {
      "cell_type": "markdown",
      "source": [
        "**Aufgabe 2**\n",
        "Erstellen Sie eine View mit dem Namen \"big3_customers\" in der Sie die Customers Tabelle so filtern, dass nur Customer mit den Company Einträgen 'Apple Inc.', 'Microsoft Corporation' oder 'Google Inc.' über bleiben. Weiters sollen nur die Spalten Company, FirstName, LastName und Email angezeigt und nach Company sortiert werden.\n",
        "Prüfen Sie das Ergebnis durch ausführen des vorbereiteten SELECT Statements.\n"
      ],
      "metadata": {
        "id": "14AfVrZUwQYX"
      }
    },
    {
      "cell_type": "code",
      "source": [
        "%%sql\n",
        "create view big3_customers as\n",
        "                            select company, firstname, lastname, email\n",
        "                            from customers\n",
        "                            where company in ('Apple Inc.', 'Microsoft Corporation', 'Goofle Inc')\n",
        "                            order by company\n",
        "                            ;\n",
        "\n"
      ],
      "metadata": {
        "id": "742qtS29x2Ey",
        "colab": {
          "base_uri": "https://localhost:8080/"
        },
        "outputId": "4586a7ed-b768-41c3-ee95-ede8aed02633"
      },
      "execution_count": null,
      "outputs": [
        {
          "output_type": "stream",
          "name": "stdout",
          "text": [
            " * sqlite:///chinook.db\n",
            "(sqlite3.OperationalError) table big3_customers already exists\n",
            "[SQL: create view big3_customers as\n",
            "                            select company, firstname, lastname, email\n",
            "                            from customers\n",
            "                            where company in ('Apple Inc.', 'Microsoft Corporation', 'Goofle Inc')\n",
            "                            order by company\n",
            "                            ;]\n",
            "(Background on this error at: https://sqlalche.me/e/20/e3q8)\n"
          ]
        }
      ]
    },
    {
      "cell_type": "code",
      "source": [
        "%%sql\n",
        "SELECT * FROM big3_customers;"
      ],
      "metadata": {
        "id": "hchMkd4c0t87",
        "colab": {
          "base_uri": "https://localhost:8080/",
          "height": 75
        },
        "outputId": "3b7f6c13-d598-4a9c-ee96-56e115bb8e68"
      },
      "execution_count": null,
      "outputs": [
        {
          "output_type": "stream",
          "name": "stdout",
          "text": [
            " * sqlite:///chinook.db\n",
            "Done.\n"
          ]
        },
        {
          "output_type": "execute_result",
          "data": {
            "text/plain": [
              "[]"
            ],
            "text/html": [
              "<table>\n",
              "    <thead>\n",
              "        <tr>\n",
              "            <th>Company</th>\n",
              "            <th>FirstName</th>\n",
              "            <th>LastName</th>\n",
              "            <th>Email</th>\n",
              "        </tr>\n",
              "    </thead>\n",
              "    <tbody>\n",
              "    </tbody>\n",
              "</table>"
            ]
          },
          "metadata": {},
          "execution_count": 30
        }
      ]
    },
    {
      "cell_type": "markdown",
      "source": [
        "**Aufgabe 3**\n",
        "Fragen Sie die Datenbank über die Tabellen media_types und tracks so ab, dass Sie alle Tracks nach Media Type filtern, die 'video file' im Namen enthalten. Errechnen Sie in der Abfrage gruppiert nach GenreId die durchschnittliche Milliseconds Anzahl. Diese Durchschnittswerte sollen durch 60000 dividiert und auf 2 Kommastellen gerundet werden. Nennen Sie die Spalten entsprechend GenreId und avgMinutes.  "
      ],
      "metadata": {
        "id": "iYP7DEEn6krD"
      }
    },
    {
      "cell_type": "code",
      "source": [
        "%%sql\n",
        "select\n",
        "    t.genreid,\n",
        "    round(avg(t.milliseconds) / 60000, 2) avgMinutes -- 2 Kommastellen\n",
        "from\n",
        "    tracks t\n",
        "join\n",
        "    media_types as m on t.mediatypeid = m.mediatypeid\n",
        "where\n",
        "    m.name like '%video file%'\n",
        "group by t.genreid;"
      ],
      "metadata": {
        "id": "es9_iiRX6jrb",
        "colab": {
          "base_uri": "https://localhost:8080/",
          "height": 203
        },
        "outputId": "4f5ba466-e333-4278-d226-cde81cdb5dcd"
      },
      "execution_count": null,
      "outputs": [
        {
          "output_type": "stream",
          "name": "stdout",
          "text": [
            " * sqlite:///chinook.db\n",
            "Done.\n"
          ]
        },
        {
          "output_type": "execute_result",
          "data": {
            "text/plain": [
              "[(18, 43.76), (19, 35.75), (20, 48.53), (21, 42.92), (22, 26.42), (23, 4.9)]"
            ],
            "text/html": [
              "<table>\n",
              "    <thead>\n",
              "        <tr>\n",
              "            <th>GenreId</th>\n",
              "            <th>avgMinutes</th>\n",
              "        </tr>\n",
              "    </thead>\n",
              "    <tbody>\n",
              "        <tr>\n",
              "            <td>18</td>\n",
              "            <td>43.76</td>\n",
              "        </tr>\n",
              "        <tr>\n",
              "            <td>19</td>\n",
              "            <td>35.75</td>\n",
              "        </tr>\n",
              "        <tr>\n",
              "            <td>20</td>\n",
              "            <td>48.53</td>\n",
              "        </tr>\n",
              "        <tr>\n",
              "            <td>21</td>\n",
              "            <td>42.92</td>\n",
              "        </tr>\n",
              "        <tr>\n",
              "            <td>22</td>\n",
              "            <td>26.42</td>\n",
              "        </tr>\n",
              "        <tr>\n",
              "            <td>23</td>\n",
              "            <td>4.9</td>\n",
              "        </tr>\n",
              "    </tbody>\n",
              "</table>"
            ]
          },
          "metadata": {},
          "execution_count": 42
        }
      ]
    },
    {
      "cell_type": "markdown",
      "source": [
        "**Aufgabe 4**\n",
        "Fragen Sie die Datenbank über mehrere Tabellen so ab, dass Sie alle Playlists anzeigen, die mindestens einen Track des Genre mit Namen 'Classical' beinhaltet. Die Abfrage soll Id und Namen der Playlists einmalig anzeigen, wenn ein entsprechender Track in ihr enthalten ist."
      ],
      "metadata": {
        "id": "ixZgaVLPAPTF"
      }
    },
    {
      "cell_type": "code",
      "source": [
        "%%sql\n",
        "select distinct\n",
        "    p.playlistid,\n",
        "    p.name as playlistname\n",
        "from\n",
        "    playlists as p\n",
        "join\n",
        "    playlist_track as pt on p.playlistid = pt.playlistid\n",
        "join\n",
        "    tracks t on pt.trackid = t.trackid\n",
        "join\n",
        "    genres g on t.genreid = g.genreid\n",
        "where\n",
        "    g.name = 'Classical';\n"
      ],
      "metadata": {
        "id": "oK_z_0TSAleN",
        "colab": {
          "base_uri": "https://localhost:8080/",
          "height": 225
        },
        "outputId": "e5c2754f-51eb-4ccf-d9f6-0f8a616ba805"
      },
      "execution_count": null,
      "outputs": [
        {
          "output_type": "stream",
          "name": "stdout",
          "text": [
            " * sqlite:///chinook.db\n",
            "Done.\n"
          ]
        },
        {
          "output_type": "execute_result",
          "data": {
            "text/plain": [
              "[(1, 'Music'),\n",
              " (5, '90’s Music'),\n",
              " (8, 'Music'),\n",
              " (12, 'Classical'),\n",
              " (15, 'Classical 101 - The Basics'),\n",
              " (14, 'Classical 101 - Next Steps'),\n",
              " (13, 'Classical 101 - Deep Cuts')]"
            ],
            "text/html": [
              "<table>\n",
              "    <thead>\n",
              "        <tr>\n",
              "            <th>PlaylistId</th>\n",
              "            <th>playlistname</th>\n",
              "        </tr>\n",
              "    </thead>\n",
              "    <tbody>\n",
              "        <tr>\n",
              "            <td>1</td>\n",
              "            <td>Music</td>\n",
              "        </tr>\n",
              "        <tr>\n",
              "            <td>5</td>\n",
              "            <td>90’s Music</td>\n",
              "        </tr>\n",
              "        <tr>\n",
              "            <td>8</td>\n",
              "            <td>Music</td>\n",
              "        </tr>\n",
              "        <tr>\n",
              "            <td>12</td>\n",
              "            <td>Classical</td>\n",
              "        </tr>\n",
              "        <tr>\n",
              "            <td>15</td>\n",
              "            <td>Classical 101 - The Basics</td>\n",
              "        </tr>\n",
              "        <tr>\n",
              "            <td>14</td>\n",
              "            <td>Classical 101 - Next Steps</td>\n",
              "        </tr>\n",
              "        <tr>\n",
              "            <td>13</td>\n",
              "            <td>Classical 101 - Deep Cuts</td>\n",
              "        </tr>\n",
              "    </tbody>\n",
              "</table>"
            ]
          },
          "metadata": {},
          "execution_count": 41
        }
      ]
    },
    {
      "cell_type": "markdown",
      "source": [
        "**Aufgabe 5**\n",
        "Fragen Sie die Datenbank über die Tabellen Employees, Customers und Invoices, so ab, dass Sie First und LastName des Employee und die Summe der Invoices aller Customers, die der Employee betreut anzeigt.\n",
        "\n",
        "**WICHTIG** Verwenden Sie für die Abfrage JOINs!\n",
        "\n",
        "*Hinweis* In der Tabelle Customers wird SupportRepId als Fremdschlüssel zum Primärschlüssel EmployeeId der Employees Tabelle verwendet."
      ],
      "metadata": {
        "id": "N9QmcezIFL1o"
      }
    },
    {
      "cell_type": "code",
      "source": [
        "%%sql\n",
        "select\n",
        "    e.firstname as employee_firstname,\n",
        "    e.lastname as employee_lastname,\n",
        "    round(sum(i.total), 2) as total_invoices\n",
        "from\n",
        "    employees e\n",
        "join\n",
        "    customers c on e.employeeid = c.supportrepid\n",
        "join\n",
        "    invoices i on c.customerid = i.customerid\n",
        "group by e.employeeid, e.firstname, e.lastname\n",
        "order by total_invoices desc;\n"
      ],
      "metadata": {
        "id": "tFi8BBBrFHGZ",
        "colab": {
          "base_uri": "https://localhost:8080/",
          "height": 139
        },
        "outputId": "fe666a87-d42b-4717-8253-5a047a48d62a"
      },
      "execution_count": null,
      "outputs": [
        {
          "output_type": "stream",
          "name": "stdout",
          "text": [
            " * sqlite:///chinook.db\n",
            "Done.\n"
          ]
        },
        {
          "output_type": "execute_result",
          "data": {
            "text/plain": [
              "[('Jane', 'Peacock', 833.04),\n",
              " ('Margaret', 'Park', 775.4),\n",
              " ('Steve', 'Johnson', 720.16)]"
            ],
            "text/html": [
              "<table>\n",
              "    <thead>\n",
              "        <tr>\n",
              "            <th>employee_firstname</th>\n",
              "            <th>employee_lastname</th>\n",
              "            <th>total_invoices</th>\n",
              "        </tr>\n",
              "    </thead>\n",
              "    <tbody>\n",
              "        <tr>\n",
              "            <td>Jane</td>\n",
              "            <td>Peacock</td>\n",
              "            <td>833.04</td>\n",
              "        </tr>\n",
              "        <tr>\n",
              "            <td>Margaret</td>\n",
              "            <td>Park</td>\n",
              "            <td>775.4</td>\n",
              "        </tr>\n",
              "        <tr>\n",
              "            <td>Steve</td>\n",
              "            <td>Johnson</td>\n",
              "            <td>720.16</td>\n",
              "        </tr>\n",
              "    </tbody>\n",
              "</table>"
            ]
          },
          "metadata": {},
          "execution_count": 44
        }
      ]
    },
    {
      "cell_type": "markdown",
      "source": [
        "**Aufgabe 6**\n",
        "Lösen Sie die Aufgabe 5 nun mit Sub-Queries anstatt Joins.\n",
        "\n",
        "*Hinweis* Employees die keine Customer betreuen sollen aus dem Ergebnis herausgefiltert werden.\n",
        "\n"
      ],
      "metadata": {
        "id": "o12t6wxrI_Ky"
      }
    },
    {
      "cell_type": "code",
      "source": [
        "%%sql\n",
        "select\n",
        "    e.firstname as employee_firstname,\n",
        "    e.lastname as employee_lastname,\n",
        "    round((\n",
        "        select sum(i.total)\n",
        "        from invoices as i\n",
        "        where i.customerid in (\n",
        "            select c.customerid\n",
        "            from customers c\n",
        "            where c.supportrepid = e.employeeid\n",
        "                               )\n",
        "           ), 2) as total_invoices\n",
        "from employees as e\n",
        "where\n",
        "    e.employeeid in (\n",
        "        select distinct c.supportrepid\n",
        "        from customers c\n",
        "    )\n",
        "order by total_invoices desc;\n"
      ],
      "metadata": {
        "id": "fQXJ9BDbJCPA",
        "colab": {
          "base_uri": "https://localhost:8080/",
          "height": 139
        },
        "outputId": "9cfff3ac-5f0a-4ec6-f7e4-d31f592e6401"
      },
      "execution_count": null,
      "outputs": [
        {
          "output_type": "stream",
          "name": "stdout",
          "text": [
            " * sqlite:///chinook.db\n",
            "Done.\n"
          ]
        },
        {
          "output_type": "execute_result",
          "data": {
            "text/plain": [
              "[('Jane', 'Peacock', 833.04),\n",
              " ('Margaret', 'Park', 775.4),\n",
              " ('Steve', 'Johnson', 720.16)]"
            ],
            "text/html": [
              "<table>\n",
              "    <thead>\n",
              "        <tr>\n",
              "            <th>employee_firstname</th>\n",
              "            <th>employee_lastname</th>\n",
              "            <th>total_invoices</th>\n",
              "        </tr>\n",
              "    </thead>\n",
              "    <tbody>\n",
              "        <tr>\n",
              "            <td>Jane</td>\n",
              "            <td>Peacock</td>\n",
              "            <td>833.04</td>\n",
              "        </tr>\n",
              "        <tr>\n",
              "            <td>Margaret</td>\n",
              "            <td>Park</td>\n",
              "            <td>775.4</td>\n",
              "        </tr>\n",
              "        <tr>\n",
              "            <td>Steve</td>\n",
              "            <td>Johnson</td>\n",
              "            <td>720.16</td>\n",
              "        </tr>\n",
              "    </tbody>\n",
              "</table>"
            ]
          },
          "metadata": {},
          "execution_count": 47
        }
      ]
    },
    {
      "cell_type": "markdown",
      "source": [
        "**Aufgabe 7**\n",
        "Sie sollen über die Invoices Tabelle den Total Wert jeder Rechnung im verrechnenden Land (BillingCountry) laufend aufsummieren (Running_Total). Das Ergebnis soll BillingCountry, InvoiceDate, Total, sowie Running_Total anzeigen.\n",
        "*   Bei der Berechnung der kumulierten Summe von Total sollen zuerst Invoices mit neuerem Datum herangezogen werden.\n",
        "*   Sortieren Sie das Endergebnis aufsteigend nach BillingCountry und dann Running_Total.\n",
        "\n",
        "Geben Sie die ersten 10 Zeilen zurück."
      ],
      "metadata": {
        "id": "WMJwA2YOONRs"
      }
    },
    {
      "cell_type": "code",
      "source": [
        "%%sql\n",
        "select\n",
        "    billingcountry,\n",
        "    invoicedate,\n",
        "    total,\n",
        "    sum(total)\n",
        "        over (\n",
        "        partition by billingcountry\n",
        "        order     by invoicedate desc\n",
        "               ) as running_total\n",
        "from invoices\n",
        "order by billingcountry, running_total\n",
        "limit 10;\n"
      ],
      "metadata": {
        "id": "CBiLVVGJOKHt",
        "colab": {
          "base_uri": "https://localhost:8080/",
          "height": 289
        },
        "outputId": "d376d088-aafd-4632-951e-e7d060130866"
      },
      "execution_count": null,
      "outputs": [
        {
          "output_type": "stream",
          "name": "stdout",
          "text": [
            " * sqlite:///chinook.db\n",
            "Done.\n"
          ]
        },
        {
          "output_type": "execute_result",
          "data": {
            "text/plain": [
              "[('Argentina', '2013-11-08 00:00:00', 8.91, 8.91),\n",
              " ('Argentina', '2013-03-10 00:00:00', 13.86, 22.77),\n",
              " ('Argentina', '2013-01-28 00:00:00', 1.98, 24.75),\n",
              " ('Argentina', '2011-08-07 00:00:00', 0.99, 25.74),\n",
              " ('Argentina', '2010-12-17 00:00:00', 5.94, 31.68),\n",
              " ('Argentina', '2010-09-14 00:00:00', 3.96, 35.64),\n",
              " ('Argentina', '2010-06-12 00:00:00', 1.98, 37.62),\n",
              " ('Australia', '2012-08-31 00:00:00', 8.91, 8.91),\n",
              " ('Australia', '2012-01-01 00:00:00', 13.86, 22.77),\n",
              " ('Australia', '2011-11-21 00:00:00', 1.98, 24.75)]"
            ],
            "text/html": [
              "<table>\n",
              "    <thead>\n",
              "        <tr>\n",
              "            <th>BillingCountry</th>\n",
              "            <th>InvoiceDate</th>\n",
              "            <th>Total</th>\n",
              "            <th>running_total</th>\n",
              "        </tr>\n",
              "    </thead>\n",
              "    <tbody>\n",
              "        <tr>\n",
              "            <td>Argentina</td>\n",
              "            <td>2013-11-08 00:00:00</td>\n",
              "            <td>8.91</td>\n",
              "            <td>8.91</td>\n",
              "        </tr>\n",
              "        <tr>\n",
              "            <td>Argentina</td>\n",
              "            <td>2013-03-10 00:00:00</td>\n",
              "            <td>13.86</td>\n",
              "            <td>22.77</td>\n",
              "        </tr>\n",
              "        <tr>\n",
              "            <td>Argentina</td>\n",
              "            <td>2013-01-28 00:00:00</td>\n",
              "            <td>1.98</td>\n",
              "            <td>24.75</td>\n",
              "        </tr>\n",
              "        <tr>\n",
              "            <td>Argentina</td>\n",
              "            <td>2011-08-07 00:00:00</td>\n",
              "            <td>0.99</td>\n",
              "            <td>25.74</td>\n",
              "        </tr>\n",
              "        <tr>\n",
              "            <td>Argentina</td>\n",
              "            <td>2010-12-17 00:00:00</td>\n",
              "            <td>5.94</td>\n",
              "            <td>31.68</td>\n",
              "        </tr>\n",
              "        <tr>\n",
              "            <td>Argentina</td>\n",
              "            <td>2010-09-14 00:00:00</td>\n",
              "            <td>3.96</td>\n",
              "            <td>35.64</td>\n",
              "        </tr>\n",
              "        <tr>\n",
              "            <td>Argentina</td>\n",
              "            <td>2010-06-12 00:00:00</td>\n",
              "            <td>1.98</td>\n",
              "            <td>37.62</td>\n",
              "        </tr>\n",
              "        <tr>\n",
              "            <td>Australia</td>\n",
              "            <td>2012-08-31 00:00:00</td>\n",
              "            <td>8.91</td>\n",
              "            <td>8.91</td>\n",
              "        </tr>\n",
              "        <tr>\n",
              "            <td>Australia</td>\n",
              "            <td>2012-01-01 00:00:00</td>\n",
              "            <td>13.86</td>\n",
              "            <td>22.77</td>\n",
              "        </tr>\n",
              "        <tr>\n",
              "            <td>Australia</td>\n",
              "            <td>2011-11-21 00:00:00</td>\n",
              "            <td>1.98</td>\n",
              "            <td>24.75</td>\n",
              "        </tr>\n",
              "    </tbody>\n",
              "</table>"
            ]
          },
          "metadata": {},
          "execution_count": 48
        }
      ]
    },
    {
      "cell_type": "code",
      "source": [],
      "metadata": {
        "id": "RRCbnNHUajTD"
      },
      "execution_count": null,
      "outputs": []
    }
  ]
}