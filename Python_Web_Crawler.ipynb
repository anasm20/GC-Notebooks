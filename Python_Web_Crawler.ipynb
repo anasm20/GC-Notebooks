{
  "nbformat": 4,
  "nbformat_minor": 0,
  "metadata": {
    "colab": {
      "provenance": [],
      "authorship_tag": "ABX9TyMUc5zaF9OBLjboDEntor2K"
    },
    "kernelspec": {
      "name": "python3",
      "display_name": "Python 3"
    },
    "language_info": {
      "name": "python"
    }
  },
  "cells": [
    {
      "cell_type": "code",
      "source": [
        "# !pip install requests beautifulsoup4"
      ],
      "metadata": {
        "id": "tvqZag_vjoNE"
      },
      "execution_count": 5,
      "outputs": []
    },
    {
      "cell_type": "code",
      "execution_count": 6,
      "metadata": {
        "id": "emSOUhA30i8l"
      },
      "outputs": [],
      "source": [
        "import requests\n",
        "from bs4 import BeautifulSoup\n",
        "import re\n",
        "\n",
        "# Ergebnisse\n",
        "results = {\n",
        "    \"visited_sites\": [],\n",
        "    \"violations\": {},\n",
        "    \"errors\": []\n",
        "}\n"
      ]
    },
    {
      "cell_type": "code",
      "source": [
        "def fetch_html(url):\n",
        "    try:\n",
        "        response = requests.get(url, timeout=10)\n",
        "        response.raise_for_status()\n",
        "        return response.text\n",
        "    except requests.RequestException as e:\n",
        "        results[\"errors\"].append((url, str(e)))  # save errors\n",
        "        return None\n",
        "\n",
        "# Search function\n",
        "def extract_links(html, base_url):\n",
        "    soup = BeautifulSoup(html, 'html.parser')\n",
        "    links = set()\n",
        "    for a_tag in soup.find_all('a', href=True):\n",
        "        href = a_tag['href']\n",
        "        if href.startswith('http'):\n",
        "            links.add(href)\n",
        "        elif href.startswith('/'):  # Relative-link\n",
        "            links.add(base_url + href)\n",
        "    return links\n",
        "\n",
        "# function for analyzing copyright violations\n",
        "def check_copyright_violations(content):\n",
        "    patterns = [\n",
        "        r\"©\\s?\\d{4}\",            # year with copyright symbol\n",
        "        r\"All rights reserved\",  # copyrights text\n",
        "    ]\n",
        "    for pattern in patterns:\n",
        "        if re.search(pattern, content, re.IGNORECASE):\n",
        "            return True\n",
        "    return False\n",
        "\n",
        "# main_function of the crawler\n",
        "def web_crawler(start_url, max_depth=2):\n",
        "    visited_urls = set()\n",
        "    to_visit = [(start_url, 0)]  # (URL, Depth)\n",
        "\n",
        "    while to_visit:\n",
        "        current_url, depth = to_visit.pop(0)\n",
        "        if depth > max_depth or current_url in visited_urls:\n",
        "            continue\n",
        "\n",
        "        print(f\"Visiting: {current_url} (Depth {depth})\")\n",
        "        visited_urls.add(current_url)\n",
        "        results[\"visited_sites\"].append(current_url)\n",
        "\n",
        "        html = fetch_html(current_url)\n",
        "        if not html:\n",
        "            continue\n",
        "\n",
        "        if start_url not in current_url and check_copyright_violations(html):\n",
        "            print(f\"Copyright violation detected on: {current_url}\")\n",
        "            results[\"violations\"][current_url] = \"Potential violation detected\"\n",
        "\n",
        "        links = extract_links(html, base_url=current_url)\n",
        "        # Ignore links if extract_links = start_url\n",
        "        to_visit.extend([(link, depth + 1) for link in links if link not in visited_urls and start_url not in link])\n",
        "\n",
        "# Investigate URL link\n",
        "start_url = \"https://anas-mohammad.net\"\n",
        "web_crawler(start_url)\n",
        "\n",
        "# results overview\n",
        "print(\"\\n+++++ Results Analysis +++++\")\n",
        "print(\"1+ Searched websites:\")\n",
        "for site in results[\"visited_sites\"]:\n",
        "    print(f\"- {site}\")\n",
        "\n",
        "print(\"\\n2+ Found copyright violations:\")\n",
        "if results[\"violations\"]:\n",
        "    for site, info in results[\"violations\"].items():\n",
        "        print(f\"- {site}: {info}\")\n",
        "else:\n",
        "    print(\"- No violations found.\")\n",
        "\n",
        "print(\"\\n3+. Errors during fetching:\")\n",
        "if results[\"errors\"]:\n",
        "    for url, error in results[\"errors\"]:\n",
        "        print(f\"- {url}: {error}\")\n",
        "else:\n",
        "    print(\"- No errors during fetching.\")\n"
      ],
      "metadata": {
        "colab": {
          "base_uri": "https://localhost:8080/"
        },
        "id": "koPy9q4_kbdy",
        "outputId": "d4578755-7212-468d-e802-9ff5dea9f593"
      },
      "execution_count": 9,
      "outputs": [
        {
          "output_type": "stream",
          "name": "stdout",
          "text": [
            "Visiting: https://anas-mohammad.net (Depth 0)\n",
            "Visiting: https://www.google.com/url?q=https%3A%2F%2Fgithub.com%2Fanasm20&sa=D&sntz=1&usg=AOvVaw2aF7s-qMGjNp9yzaJITugl (Depth 1)\n",
            "Visiting: https://www.google.com/url?q=https%3A%2F%2Fwww.linkedin.com%2F&sa=D&sntz=1&usg=AOvVaw27zHZd9hlyIAn1w47VRLrD (Depth 1)\n",
            "\n",
            "+++++ Results Analysis +++++\n",
            "1- Searched websites:\n",
            "- https://anas-mohammad.net\n",
            "- https://www.google.com/url?q=https%3A%2F%2Fgithub.com%2Fanasm20&sa=D&sntz=1&usg=AOvVaw2aF7s-qMGjNp9yzaJITugl\n",
            "- https://www.google.com/url?q=https%3A%2F%2Fwww.linkedin.com%2F&sa=D&sntz=1&usg=AOvVaw27zHZd9hlyIAn1w47VRLrD\n",
            "- https://anas-mohammad.net\n",
            "- https://www.google.com/url?q=https%3A%2F%2Fgithub.com%2Fanasm20&sa=D&sntz=1&usg=AOvVaw2aF7s-qMGjNp9yzaJITugl\n",
            "- https://www.google.com/url?q=https%3A%2F%2Fwww.linkedin.com%2F&sa=D&sntz=1&usg=AOvVaw27zHZd9hlyIAn1w47VRLrD\n",
            "- https://anas-mohammad.net\n",
            "- https://www.google.com/url?q=https%3A%2F%2Fgithub.com%2Fanasm20&sa=D&sntz=1&usg=AOvVaw2aF7s-qMGjNp9yzaJITugl\n",
            "- https://www.google.com/url?q=https%3A%2F%2Fwww.linkedin.com%2F&sa=D&sntz=1&usg=AOvVaw27zHZd9hlyIAn1w47VRLrD\n",
            "\n",
            "2- Found copyright violations:\n",
            "- No violations found.\n",
            "\n",
            "3-. Errors during fetching:\n",
            "- No errors during fetching.\n"
          ]
        }
      ]
    },
    {
      "cell_type": "code",
      "source": [],
      "metadata": {
        "id": "6iUwVjhVlLI4"
      },
      "execution_count": 7,
      "outputs": []
    }
  ]
}